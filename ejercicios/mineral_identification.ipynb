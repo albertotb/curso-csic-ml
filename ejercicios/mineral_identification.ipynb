{
 "cells": [
  {
   "cell_type": "code",
   "execution_count": 30,
   "id": "a3acdc41",
   "metadata": {},
   "outputs": [],
   "source": [
    "import os\n",
    "os.environ['TF_CPP_MIN_LOG_LEVEL'] = '3' \n",
    "\n",
    "import cv2   \n",
    "import numpy as np\n",
    "import pandas as pd\n",
    "import matplotlib.pyplot as plt\n",
    "from matplotlib import style\n",
    "import seaborn as sns\n",
    "\n",
    "from sklearn.model_selection import train_test_split\n",
    "from sklearn.metrics import classification_report, confusion_matrix, ConfusionMatrixDisplay\n",
    "from sklearn.preprocessing import LabelEncoder\n",
    "\n",
    "from keras.preprocessing.image import ImageDataGenerator\n",
    "\n",
    "from keras import backend as K\n",
    "from keras.models import Sequential\n",
    "from keras.layers import Dense\n",
    "from keras.optimizers import Adam,SGD,Adagrad,Adadelta,RMSprop\n",
    "from keras.utils import to_categorical\n",
    "\n",
    "from keras.layers import Dropout, Flatten,Activation\n",
    "from keras.layers import Conv2D, MaxPooling2D, BatchNormalization                               "
   ]
  },
  {
   "cell_type": "code",
   "execution_count": 2,
   "id": "8ff3e817",
   "metadata": {},
   "outputs": [],
   "source": [
    "path_to_data = \"../data/minet\""
   ]
  },
  {
   "cell_type": "code",
   "execution_count": 3,
   "id": "fc85ab41",
   "metadata": {},
   "outputs": [],
   "source": [
    "image_names = []\n",
    "train_labels = []\n",
    "train_images = []\n",
    "\n",
    "size = (150, 150)\n",
    "\n",
    "for folder in os.listdir(path_to_data):\n",
    "    for file in os.listdir(os.path.join(path_to_data, folder)):\n",
    "        if file.endswith(\"jpg\"):\n",
    "            image_names.append(os.path.join(path_to_data, folder, file))\n",
    "            train_labels.append(folder)\n",
    "            img = cv2.imread(os.path.join(path_to_data, folder, file))\n",
    "            im = cv2.resize(img, size)\n",
    "            train_images.append(im)\n",
    "        else:\n",
    "            continue"
   ]
  },
  {
   "cell_type": "code",
   "execution_count": 4,
   "id": "5eee4c47",
   "metadata": {},
   "outputs": [],
   "source": [
    "encoder = LabelEncoder()\n",
    "y = encoder.fit_transform(train_labels)\n",
    "n_classes = len(np.unique(y))"
   ]
  },
  {
   "cell_type": "code",
   "execution_count": 5,
   "id": "165d57f0",
   "metadata": {},
   "outputs": [],
   "source": [
    "y = to_categorical(y, n_classes)"
   ]
  },
  {
   "cell_type": "code",
   "execution_count": 6,
   "id": "ad5de6ac",
   "metadata": {},
   "outputs": [],
   "source": [
    "X = np.array(train_images)\n",
    "X = X / 255"
   ]
  },
  {
   "cell_type": "code",
   "execution_count": 7,
   "id": "adba4e14",
   "metadata": {},
   "outputs": [
    {
     "data": {
      "text/plain": [
       "(930, 7)"
      ]
     },
     "execution_count": 7,
     "metadata": {},
     "output_type": "execute_result"
    }
   ],
   "source": [
    "y.shape"
   ]
  },
  {
   "cell_type": "code",
   "execution_count": 8,
   "id": "9cd6f5b9",
   "metadata": {},
   "outputs": [
    {
     "data": {
      "text/plain": [
       "(930, 150, 150, 3)"
      ]
     },
     "execution_count": 8,
     "metadata": {},
     "output_type": "execute_result"
    }
   ],
   "source": [
    "X.shape"
   ]
  },
  {
   "cell_type": "code",
   "execution_count": 9,
   "id": "77ed6872",
   "metadata": {},
   "outputs": [],
   "source": [
    "X_train, X_test, y_train, y_test = train_test_split(X, y, test_size=0.3, random_state=1)"
   ]
  },
  {
   "cell_type": "code",
   "execution_count": 10,
   "id": "fdb3d455",
   "metadata": {},
   "outputs": [],
   "source": [
    "model = Sequential()\n",
    "model.add(Conv2D(filters=32, kernel_size=(5,5), padding='Same', activation='relu', input_shape=X_train.shape[1:]))\n",
    "model.add(MaxPooling2D(pool_size=(2,2)))\n",
    "\n",
    "model.add(Conv2D(filters=64, kernel_size=(3,3), padding='Same', activation='relu'))\n",
    "model.add(MaxPooling2D(pool_size=(2,2), strides=(2,2)))\n",
    " \n",
    "model.add(Conv2D(filters=96, kernel_size=(3,3), padding='Same', activation='relu'))\n",
    "model.add(MaxPooling2D(pool_size=(2,2), strides=(2,2)))\n",
    "\n",
    "model.add(Conv2D(filters = 96, kernel_size=(3,3), padding='Same', activation='relu'))\n",
    "model.add(MaxPooling2D(pool_size=(2,2), strides=(2,2)))\n",
    "\n",
    "model.add(Flatten())\n",
    "model.add(Dense(512))\n",
    "model.add(Activation('relu'))\n",
    "model.add(Dense(y.shape[1], activation = \"softmax\"))"
   ]
  },
  {
   "cell_type": "code",
   "execution_count": 11,
   "id": "6296b3d6",
   "metadata": {},
   "outputs": [],
   "source": [
    "batch_size = 128\n",
    "epochs = 50"
   ]
  },
  {
   "cell_type": "code",
   "execution_count": 12,
   "id": "957a3f18",
   "metadata": {},
   "outputs": [],
   "source": [
    "datagen = ImageDataGenerator(\n",
    "    featurewise_center=False,  # set input mean to 0 over the dataset\n",
    "    samplewise_center=False,  # set each sample mean to 0\n",
    "    featurewise_std_normalization=False,  # divide inputs by std of the dataset\n",
    "    samplewise_std_normalization=False,  # divide each input by its std\n",
    "    zca_whitening=False,  # apply ZCA whitening\n",
    "    rotation_range=30,  # randomly rotate images in the range (degrees, 0 to 180)\n",
    "    zoom_range = 0.1, # Randomly zoom image \n",
    "    width_shift_range=0.2,  # randomly shift images horizontally (fraction of total width)\n",
    "    height_shift_range=0.2,  # randomly shift images vertically (fraction of total height)\n",
    "    horizontal_flip=True,  # randomly flip images\n",
    "    vertical_flip=False\n",
    ") # randomly flip images\n",
    "\n",
    "datagen.fit(X_train)"
   ]
  },
  {
   "cell_type": "code",
   "execution_count": 13,
   "id": "d6daca4f",
   "metadata": {},
   "outputs": [],
   "source": [
    "model.compile(\n",
    "    optimizer=Adam(learning_rate=0.001), \n",
    "    loss='categorical_crossentropy', \n",
    "    metrics=['accuracy']\n",
    ")"
   ]
  },
  {
   "cell_type": "code",
   "execution_count": 14,
   "id": "1b75998c",
   "metadata": {
    "scrolled": true
   },
   "outputs": [
    {
     "name": "stdout",
     "output_type": "stream",
     "text": [
      "Epoch 1/50\n",
      "5/5 [==============================] - 6s 1s/step - loss: 2.0402 - accuracy: 0.2409 - val_loss: 1.8369 - val_accuracy: 0.2473\n",
      "Epoch 2/50\n",
      "5/5 [==============================] - 6s 1s/step - loss: 1.7992 - accuracy: 0.2734 - val_loss: 1.6168 - val_accuracy: 0.4014\n",
      "Epoch 3/50\n",
      "5/5 [==============================] - 5s 1s/step - loss: 1.6533 - accuracy: 0.3346 - val_loss: 1.6895 - val_accuracy: 0.2509\n",
      "Epoch 4/50\n",
      "5/5 [==============================] - 5s 1s/step - loss: 1.6023 - accuracy: 0.3365 - val_loss: 1.4861 - val_accuracy: 0.4014\n",
      "Epoch 5/50\n",
      "5/5 [==============================] - 5s 1s/step - loss: 1.4577 - accuracy: 0.4704 - val_loss: 1.4197 - val_accuracy: 0.4552\n",
      "Epoch 6/50\n",
      "5/5 [==============================] - 5s 1s/step - loss: 1.3835 - accuracy: 0.4685 - val_loss: 1.4089 - val_accuracy: 0.4552\n",
      "Epoch 7/50\n",
      "5/5 [==============================] - 6s 1s/step - loss: 1.2750 - accuracy: 0.4922 - val_loss: 1.3143 - val_accuracy: 0.4624\n",
      "Epoch 8/50\n",
      "5/5 [==============================] - 5s 1s/step - loss: 1.1763 - accuracy: 0.5105 - val_loss: 1.2125 - val_accuracy: 0.5663\n",
      "Epoch 9/50\n",
      "5/5 [==============================] - 6s 1s/step - loss: 1.1261 - accuracy: 0.5797 - val_loss: 1.1013 - val_accuracy: 0.5663\n",
      "Epoch 10/50\n",
      "5/5 [==============================] - 6s 1s/step - loss: 1.1110 - accuracy: 0.5750 - val_loss: 0.9741 - val_accuracy: 0.6452\n",
      "Epoch 11/50\n",
      "5/5 [==============================] - 5s 1s/step - loss: 1.0468 - accuracy: 0.6061 - val_loss: 1.0042 - val_accuracy: 0.6165\n",
      "Epoch 12/50\n",
      "5/5 [==============================] - 5s 1s/step - loss: 0.9697 - accuracy: 0.6635 - val_loss: 0.9940 - val_accuracy: 0.6201\n",
      "Epoch 13/50\n",
      "5/5 [==============================] - 6s 1s/step - loss: 0.9407 - accuracy: 0.6516 - val_loss: 0.8289 - val_accuracy: 0.7025\n",
      "Epoch 14/50\n",
      "5/5 [==============================] - 6s 1s/step - loss: 1.0776 - accuracy: 0.6138 - val_loss: 0.8571 - val_accuracy: 0.7061\n",
      "Epoch 15/50\n",
      "5/5 [==============================] - 6s 1s/step - loss: 1.0300 - accuracy: 0.6138 - val_loss: 1.0690 - val_accuracy: 0.6380\n",
      "Epoch 16/50\n",
      "5/5 [==============================] - 5s 1s/step - loss: 1.0317 - accuracy: 0.6119 - val_loss: 1.0440 - val_accuracy: 0.6093\n",
      "Epoch 17/50\n",
      "5/5 [==============================] - 5s 954ms/step - loss: 0.9672 - accuracy: 0.6558 - val_loss: 0.9492 - val_accuracy: 0.6667\n",
      "Epoch 18/50\n",
      "5/5 [==============================] - 5s 1s/step - loss: 0.9216 - accuracy: 0.6750 - val_loss: 0.8654 - val_accuracy: 0.6846\n",
      "Epoch 19/50\n",
      "5/5 [==============================] - 5s 1s/step - loss: 0.8630 - accuracy: 0.6941 - val_loss: 0.7671 - val_accuracy: 0.7061\n",
      "Epoch 20/50\n",
      "5/5 [==============================] - 5s 1s/step - loss: 0.8645 - accuracy: 0.6941 - val_loss: 0.9605 - val_accuracy: 0.6703\n",
      "Epoch 21/50\n",
      "5/5 [==============================] - 6s 1s/step - loss: 0.8849 - accuracy: 0.6734 - val_loss: 0.7640 - val_accuracy: 0.7312\n",
      "Epoch 22/50\n",
      "5/5 [==============================] - 5s 1s/step - loss: 0.7958 - accuracy: 0.6826 - val_loss: 0.8010 - val_accuracy: 0.7025\n",
      "Epoch 23/50\n",
      "5/5 [==============================] - 5s 1s/step - loss: 0.8083 - accuracy: 0.6960 - val_loss: 0.7628 - val_accuracy: 0.7276\n",
      "Epoch 24/50\n",
      "5/5 [==============================] - 5s 1s/step - loss: 0.7656 - accuracy: 0.7208 - val_loss: 0.7354 - val_accuracy: 0.7419\n",
      "Epoch 25/50\n",
      "5/5 [==============================] - 5s 1s/step - loss: 0.7613 - accuracy: 0.7285 - val_loss: 0.6747 - val_accuracy: 0.7491\n",
      "Epoch 26/50\n",
      "5/5 [==============================] - 6s 1s/step - loss: 0.6813 - accuracy: 0.7247 - val_loss: 0.7669 - val_accuracy: 0.7240\n",
      "Epoch 27/50\n",
      "5/5 [==============================] - 6s 1s/step - loss: 0.8168 - accuracy: 0.6845 - val_loss: 0.6576 - val_accuracy: 0.7814\n",
      "Epoch 28/50\n",
      "5/5 [==============================] - 5s 961ms/step - loss: 0.7487 - accuracy: 0.7304 - val_loss: 0.6697 - val_accuracy: 0.7455\n",
      "Epoch 29/50\n",
      "5/5 [==============================] - 6s 1s/step - loss: 0.7024 - accuracy: 0.7359 - val_loss: 0.6316 - val_accuracy: 0.7599\n",
      "Epoch 30/50\n",
      "5/5 [==============================] - 5s 1s/step - loss: 0.6987 - accuracy: 0.7476 - val_loss: 0.7093 - val_accuracy: 0.7455\n",
      "Epoch 31/50\n",
      "5/5 [==============================] - 5s 1s/step - loss: 0.7760 - accuracy: 0.7170 - val_loss: 0.6471 - val_accuracy: 0.7706\n",
      "Epoch 32/50\n",
      "5/5 [==============================] - 5s 1s/step - loss: 0.7480 - accuracy: 0.7323 - val_loss: 0.7794 - val_accuracy: 0.7276\n",
      "Epoch 33/50\n",
      "5/5 [==============================] - 6s 1s/step - loss: 0.7684 - accuracy: 0.7094 - val_loss: 0.7640 - val_accuracy: 0.7240\n",
      "Epoch 34/50\n",
      "5/5 [==============================] - 6s 1s/step - loss: 0.7598 - accuracy: 0.7156 - val_loss: 0.6656 - val_accuracy: 0.7491\n",
      "Epoch 35/50\n",
      "5/5 [==============================] - 5s 1s/step - loss: 0.6521 - accuracy: 0.7725 - val_loss: 1.1734 - val_accuracy: 0.6093\n",
      "Epoch 36/50\n",
      "5/5 [==============================] - 7s 1s/step - loss: 0.7691 - accuracy: 0.7156 - val_loss: 0.6283 - val_accuracy: 0.7849\n",
      "Epoch 37/50\n",
      "5/5 [==============================] - 5s 1s/step - loss: 0.6950 - accuracy: 0.7342 - val_loss: 0.7190 - val_accuracy: 0.7491\n",
      "Epoch 38/50\n",
      "5/5 [==============================] - 5s 1s/step - loss: 0.6674 - accuracy: 0.7419 - val_loss: 0.6429 - val_accuracy: 0.7742\n",
      "Epoch 39/50\n",
      "5/5 [==============================] - 5s 1s/step - loss: 0.6390 - accuracy: 0.7706 - val_loss: 0.7777 - val_accuracy: 0.7455\n",
      "Epoch 40/50\n",
      "5/5 [==============================] - 5s 1s/step - loss: 0.6033 - accuracy: 0.7782 - val_loss: 0.5815 - val_accuracy: 0.7814\n",
      "Epoch 41/50\n",
      "5/5 [==============================] - 6s 1s/step - loss: 0.6614 - accuracy: 0.7514 - val_loss: 0.6477 - val_accuracy: 0.7240\n",
      "Epoch 42/50\n",
      "5/5 [==============================] - 5s 1s/step - loss: 0.5976 - accuracy: 0.7514 - val_loss: 0.6932 - val_accuracy: 0.7599\n",
      "Epoch 43/50\n",
      "5/5 [==============================] - 5s 968ms/step - loss: 0.5861 - accuracy: 0.7820 - val_loss: 0.5510 - val_accuracy: 0.7885\n",
      "Epoch 44/50\n",
      "5/5 [==============================] - 5s 1s/step - loss: 0.7414 - accuracy: 0.7304 - val_loss: 0.6465 - val_accuracy: 0.7778\n",
      "Epoch 45/50\n",
      "5/5 [==============================] - 6s 1s/step - loss: 0.6166 - accuracy: 0.7744 - val_loss: 0.6550 - val_accuracy: 0.7599\n",
      "Epoch 46/50\n",
      "5/5 [==============================] - 6s 1s/step - loss: 0.6129 - accuracy: 0.7828 - val_loss: 0.5948 - val_accuracy: 0.8029\n",
      "Epoch 47/50\n",
      "5/5 [==============================] - 6s 1s/step - loss: 0.5692 - accuracy: 0.8031 - val_loss: 0.6666 - val_accuracy: 0.7563\n",
      "Epoch 48/50\n",
      "5/5 [==============================] - 6s 1s/step - loss: 0.5888 - accuracy: 0.7916 - val_loss: 0.6460 - val_accuracy: 0.7599\n",
      "Epoch 49/50\n",
      "5/5 [==============================] - 5s 1s/step - loss: 0.5657 - accuracy: 0.8031 - val_loss: 0.7307 - val_accuracy: 0.7419\n",
      "Epoch 50/50\n",
      "5/5 [==============================] - 5s 1s/step - loss: 0.5397 - accuracy: 0.7992 - val_loss: 0.6231 - val_accuracy: 0.7742\n"
     ]
    }
   ],
   "source": [
    "history = model.fit(\n",
    "    datagen.flow(X_train, y_train, batch_size=batch_size),\n",
    "    epochs = epochs, \n",
    "    validation_data = (X_test, y_test),\n",
    "    verbose = 1, \n",
    "    steps_per_epoch=X_train.shape[0] // batch_size\n",
    ")"
   ]
  },
  {
   "cell_type": "code",
   "execution_count": 15,
   "id": "82e3e09a",
   "metadata": {},
   "outputs": [
    {
     "name": "stdout",
     "output_type": "stream",
     "text": [
      "9/9 [==============================] - 1s 53ms/step\n"
     ]
    }
   ],
   "source": [
    "predictions = model.predict(X_test)"
   ]
  },
  {
   "cell_type": "code",
   "execution_count": 24,
   "id": "92fc7eac",
   "metadata": {},
   "outputs": [],
   "source": [
    "y_pred = encoder.inverse_transform(np.argmax(predictions, axis=1))"
   ]
  },
  {
   "cell_type": "code",
   "execution_count": 25,
   "id": "f8e594b6",
   "metadata": {},
   "outputs": [],
   "source": [
    "y_true = encoder.inverse_transform(np.argmax(y_test, axis=1))"
   ]
  },
  {
   "cell_type": "code",
   "execution_count": 26,
   "id": "593a135b",
   "metadata": {},
   "outputs": [
    {
     "name": "stdout",
     "output_type": "stream",
     "text": [
      "              precision    recall  f1-score   support\n",
      "\n",
      "     biotite       0.54      0.72      0.62        18\n",
      "     bornite       0.75      0.86      0.80        56\n",
      " chrysocolla       0.76      0.76      0.76        51\n",
      "   malachite       0.90      0.78      0.84        69\n",
      "   muscovite       0.57      0.42      0.48        19\n",
      "      pyrite       0.80      0.71      0.75        28\n",
      "      quartz       0.83      0.89      0.86        38\n",
      "\n",
      "    accuracy                           0.77       279\n",
      "   macro avg       0.74      0.74      0.73       279\n",
      "weighted avg       0.78      0.77      0.77       279\n",
      "\n"
     ]
    }
   ],
   "source": [
    "print(classification_report(y_true, y_pred))"
   ]
  },
  {
   "cell_type": "code",
   "execution_count": 33,
   "id": "b8e9d2a4",
   "metadata": {},
   "outputs": [
    {
     "data": {
      "image/png": "[encoded data removed]",
      "text/plain": [
       "<Figure size 640x480 with 2 Axes>"
      ]
     },
     "metadata": {},
     "output_type": "display_data"
    }
   ],
   "source": [
    "ConfusionMatrixDisplay.from_predictions(y_true, y_pred, xticks_rotation=\"vertical\");"
   ]
  },
  {
   "cell_type": "code",
   "execution_count": null,
   "id": "c7367148",
   "metadata": {},
   "outputs": [],
   "source": []
  }
 ],
 "metadata": {
  "kernelspec": {
   "display_name": "Python 3 (ipykernel)",
   "language": "python",
   "name": "python3"
  },
  "language_info": {
   "codemirror_mode": {
    "name": "ipython",
    "version": 3
   },
   "file_extension": ".py",
   "mimetype": "text/x-python",
   "name": "python",
   "nbconvert_exporter": "python",
   "pygments_lexer": "ipython3",
   "version": "3.9.7"
  }
 },
 "nbformat": 4,
 "nbformat_minor": 5
}
