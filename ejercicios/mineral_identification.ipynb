{
 "cells": [
  {
   "cell_type": "code",
   "execution_count": 1,
   "id": "a3acdc41",
   "metadata": {},
   "outputs": [],
   "source": [
    "import os\n",
    "os.environ['TF_CPP_MIN_LOG_LEVEL'] = '3' \n",
    "\n",
    "import cv2   \n",
    "import numpy as np\n",
    "import pandas as pd\n",
    "import matplotlib.pyplot as plt\n",
    "from matplotlib import style\n",
    "import seaborn as sns\n",
    "\n",
    "from sklearn.model_selection import train_test_split\n",
    "from sklearn.metrics import classification_report, confusion_matrix, ConfusionMatrixDisplay\n",
    "from sklearn.preprocessing import LabelEncoder\n",
    "\n",
    "from keras.preprocessing.image import ImageDataGenerator\n",
    "\n",
    "from keras import backend as K\n",
    "from keras.models import Sequential\n",
    "from keras.layers import Dense\n",
    "from keras.optimizers import Adam,SGD,Adagrad,Adadelta,RMSprop\n",
    "from keras.utils import to_categorical\n",
    "\n",
    "from keras.layers import Dropout, Flatten,Activation\n",
    "from keras.layers import Conv2D, MaxPooling2D, BatchNormalization                               "
   ]
  },
  {
   "cell_type": "code",
   "execution_count": 2,
   "id": "8ff3e817",
   "metadata": {},
   "outputs": [],
   "source": [
    "path_to_data = \"../data/minet\""
   ]
  },
  {
   "cell_type": "code",
   "execution_count": 3,
   "id": "fc85ab41",
   "metadata": {},
   "outputs": [],
   "source": [
    "image_names = []\n",
    "train_labels = []\n",
    "train_images = []\n",
    "\n",
    "size = (150, 150)\n",
    "\n",
    "for folder in os.listdir(path_to_data):\n",
    "    for file in os.listdir(os.path.join(path_to_data, folder)):\n",
    "        if file.endswith(\"jpg\"):\n",
    "            image_names.append(os.path.join(path_to_data, folder, file))\n",
    "            train_labels.append(folder)\n",
    "            img = cv2.imread(os.path.join(path_to_data, folder, file))\n",
    "            im = cv2.resize(img, size)\n",
    "            train_images.append(im)\n",
    "        else:\n",
    "            continue"
   ]
  },
  {
   "cell_type": "code",
   "execution_count": 5,
   "id": "20a3ff60",
   "metadata": {
    "scrolled": false
   },
   "outputs": [
    {
     "data": {
      "text/plain": [
       "930"
      ]
     },
     "execution_count": 5,
     "metadata": {},
     "output_type": "execute_result"
    }
   ],
   "source": [
    "len(train_labels)"
   ]
  },
  {
   "cell_type": "code",
   "execution_count": 59,
   "id": "5eee4c47",
   "metadata": {},
   "outputs": [],
   "source": [
    "encoder = LabelEncoder()\n",
    "y = encoder.fit_transform(train_labels)\n",
    "n_classes = len(np.unique(y))"
   ]
  },
  {
   "cell_type": "code",
   "execution_count": 60,
   "id": "9297d0f1",
   "metadata": {},
   "outputs": [
    {
     "data": {
      "text/plain": [
       "array([3, 3, 3, 3, 3, 3, 3, 3, 3, 3, 3, 3, 3, 3, 3, 3, 3, 3, 3, 3, 3, 3,\n",
       "       3, 3, 3, 3, 3, 3, 3, 3, 3, 3, 3, 3, 3, 3, 3, 3, 3, 3, 3, 3, 3, 3,\n",
       "       3, 3, 3, 3, 3, 3, 3, 3, 3, 3, 3, 3, 3, 3, 3, 3, 3, 3, 3, 3, 3, 3,\n",
       "       3, 3, 3, 3, 3, 3, 3, 3, 3, 3, 3, 3, 3, 3, 3, 3, 3, 3, 3, 3, 3, 3,\n",
       "       3, 3, 3, 3, 3, 3, 3, 3, 3, 3, 3, 3, 3, 3, 3, 3, 3, 3, 3, 3, 3, 3,\n",
       "       3, 3, 3, 3, 3, 3, 3, 3, 3, 3, 3, 3, 3, 3, 3, 3, 3, 3, 3, 3, 3, 3,\n",
       "       3, 3, 3, 3, 3, 3, 3, 3, 3, 3, 3, 3, 3, 3, 3, 3, 3, 3, 3, 3, 3, 3,\n",
       "       3, 3, 3, 3, 3, 3, 3, 3, 3, 3, 3, 3, 3, 3, 3, 3, 3, 3, 3, 3, 3, 3,\n",
       "       3, 3, 3, 3, 3, 3, 3, 3, 3, 3, 3, 3, 3, 3, 3, 3, 3, 3, 3, 3, 3, 3,\n",
       "       3, 3, 3, 3, 3, 3, 3, 3, 3, 3, 3, 3, 3, 3, 3, 3, 3, 3, 3, 3, 3, 3,\n",
       "       3, 3, 3, 3, 3, 3, 3, 3, 6, 6, 6, 6, 6, 6, 6, 6, 6, 6, 6, 6, 6, 6,\n",
       "       6, 6, 6, 6, 6, 6, 6, 6, 6, 6, 6, 6, 6, 6, 6, 6, 6, 6, 6, 6, 6, 6,\n",
       "       6, 6, 6, 6, 6, 6, 6, 6, 6, 6, 6, 6, 6, 6, 6, 6, 6, 6, 6, 6, 6, 6,\n",
       "       6, 6, 6, 6, 6, 6, 6, 6, 6, 6, 6, 6, 6, 6, 6, 6, 6, 6, 6, 6, 6, 6,\n",
       "       6, 6, 6, 6, 6, 6, 6, 6, 6, 6, 6, 6, 6, 6, 6, 6, 6, 6, 6, 6, 6, 6,\n",
       "       6, 6, 6, 6, 6, 6, 6, 6, 6, 6, 6, 6, 6, 6, 6, 6, 6, 6, 6, 6, 6, 6,\n",
       "       6, 6, 6, 6, 6, 6, 6, 6, 6, 6, 6, 6, 6, 6, 6, 6, 6, 6, 4, 4, 4, 4,\n",
       "       4, 4, 4, 4, 4, 4, 4, 4, 4, 4, 4, 4, 4, 4, 4, 4, 4, 4, 4, 4, 4, 4,\n",
       "       4, 4, 4, 4, 4, 4, 4, 4, 4, 4, 4, 4, 4, 4, 4, 4, 4, 4, 4, 4, 4, 4,\n",
       "       4, 4, 4, 4, 4, 4, 4, 4, 4, 4, 4, 4, 4, 4, 4, 4, 4, 4, 4, 4, 4, 4,\n",
       "       4, 4, 4, 4, 4, 0, 0, 0, 0, 0, 0, 0, 0, 0, 0, 0, 0, 0, 0, 0, 0, 0,\n",
       "       0, 0, 0, 0, 0, 0, 0, 0, 0, 0, 0, 0, 0, 0, 0, 0, 0, 0, 0, 0, 0, 0,\n",
       "       0, 0, 0, 0, 0, 0, 0, 0, 0, 0, 0, 0, 0, 0, 0, 0, 0, 0, 0, 0, 0, 0,\n",
       "       0, 0, 0, 5, 5, 5, 5, 5, 5, 5, 5, 5, 5, 5, 5, 5, 5, 5, 5, 5, 5, 5,\n",
       "       5, 5, 5, 5, 5, 5, 5, 5, 5, 5, 5, 5, 5, 5, 5, 5, 5, 5, 5, 5, 5, 5,\n",
       "       5, 5, 5, 5, 5, 5, 5, 5, 5, 5, 5, 5, 5, 5, 5, 5, 5, 5, 5, 5, 5, 5,\n",
       "       5, 5, 5, 5, 5, 5, 5, 5, 5, 5, 5, 5, 5, 5, 5, 5, 5, 5, 5, 5, 5, 5,\n",
       "       5, 5, 5, 5, 5, 5, 5, 5, 5, 2, 2, 2, 2, 2, 2, 2, 2, 2, 2, 2, 2, 2,\n",
       "       2, 2, 2, 2, 2, 2, 2, 2, 2, 2, 2, 2, 2, 2, 2, 2, 2, 2, 2, 2, 2, 2,\n",
       "       2, 2, 2, 2, 2, 2, 2, 2, 2, 2, 2, 2, 2, 2, 2, 2, 2, 2, 2, 2, 2, 2,\n",
       "       2, 2, 2, 2, 2, 2, 2, 2, 2, 2, 2, 2, 2, 2, 2, 2, 2, 2, 2, 2, 2, 2,\n",
       "       2, 2, 2, 2, 2, 2, 2, 2, 2, 2, 2, 2, 2, 2, 2, 2, 2, 2, 2, 2, 2, 2,\n",
       "       2, 2, 2, 2, 2, 2, 2, 2, 2, 2, 2, 2, 2, 2, 2, 2, 2, 2, 2, 2, 2, 2,\n",
       "       2, 2, 2, 2, 2, 2, 2, 2, 2, 2, 2, 2, 2, 2, 2, 2, 2, 2, 2, 2, 2, 2,\n",
       "       2, 2, 2, 2, 2, 2, 2, 2, 2, 2, 2, 2, 2, 1, 1, 1, 1, 1, 1, 1, 1, 1,\n",
       "       1, 1, 1, 1, 1, 1, 1, 1, 1, 1, 1, 1, 1, 1, 1, 1, 1, 1, 1, 1, 1, 1,\n",
       "       1, 1, 1, 1, 1, 1, 1, 1, 1, 1, 1, 1, 1, 1, 1, 1, 1, 1, 1, 1, 1, 1,\n",
       "       1, 1, 1, 1, 1, 1, 1, 1, 1, 1, 1, 1, 1, 1, 1, 1, 1, 1, 1, 1, 1, 1,\n",
       "       1, 1, 1, 1, 1, 1, 1, 1, 1, 1, 1, 1, 1, 1, 1, 1, 1, 1, 1, 1, 1, 1,\n",
       "       1, 1, 1, 1, 1, 1, 1, 1, 1, 1, 1, 1, 1, 1, 1, 1, 1, 1, 1, 1, 1, 1,\n",
       "       1, 1, 1, 1, 1, 1, 1, 1, 1, 1, 1, 1, 1, 1, 1, 1, 1, 1, 1, 1, 1, 1,\n",
       "       1, 1, 1, 1, 1, 1, 1, 1, 1, 1, 1, 1, 1, 1, 1, 1, 1, 1, 1, 1, 1, 1,\n",
       "       1, 1, 1, 1, 1, 1])"
      ]
     },
     "execution_count": 60,
     "metadata": {},
     "output_type": "execute_result"
    }
   ],
   "source": [
    "y"
   ]
  },
  {
   "cell_type": "code",
   "execution_count": 14,
   "id": "72c45370",
   "metadata": {},
   "outputs": [
    {
     "data": {
      "text/plain": [
       "7"
      ]
     },
     "execution_count": 14,
     "metadata": {},
     "output_type": "execute_result"
    }
   ],
   "source": [
    "n_classes"
   ]
  },
  {
   "cell_type": "code",
   "execution_count": 61,
   "id": "165d57f0",
   "metadata": {},
   "outputs": [],
   "source": [
    "y = to_categorical(y, n_classes)"
   ]
  },
  {
   "cell_type": "code",
   "execution_count": 63,
   "id": "571e34d9",
   "metadata": {},
   "outputs": [
    {
     "data": {
      "text/html": [
       "<div>\n",
       "<style scoped>\n",
       "    .dataframe tbody tr th:only-of-type {\n",
       "        vertical-align: middle;\n",
       "    }\n",
       "\n",
       "    .dataframe tbody tr th {\n",
       "        vertical-align: top;\n",
       "    }\n",
       "\n",
       "    .dataframe thead th {\n",
       "        text-align: right;\n",
       "    }\n",
       "</style>\n",
       "<table border=\"1\" class=\"dataframe\">\n",
       "  <thead>\n",
       "    <tr style=\"text-align: right;\">\n",
       "      <th></th>\n",
       "      <th>0</th>\n",
       "      <th>1</th>\n",
       "      <th>2</th>\n",
       "      <th>3</th>\n",
       "      <th>4</th>\n",
       "      <th>5</th>\n",
       "      <th>6</th>\n",
       "    </tr>\n",
       "  </thead>\n",
       "  <tbody>\n",
       "    <tr>\n",
       "      <th>0</th>\n",
       "      <td>0.0</td>\n",
       "      <td>0.0</td>\n",
       "      <td>0.0</td>\n",
       "      <td>1.0</td>\n",
       "      <td>0.0</td>\n",
       "      <td>0.0</td>\n",
       "      <td>0.0</td>\n",
       "    </tr>\n",
       "    <tr>\n",
       "      <th>1</th>\n",
       "      <td>0.0</td>\n",
       "      <td>0.0</td>\n",
       "      <td>0.0</td>\n",
       "      <td>1.0</td>\n",
       "      <td>0.0</td>\n",
       "      <td>0.0</td>\n",
       "      <td>0.0</td>\n",
       "    </tr>\n",
       "    <tr>\n",
       "      <th>2</th>\n",
       "      <td>0.0</td>\n",
       "      <td>0.0</td>\n",
       "      <td>0.0</td>\n",
       "      <td>1.0</td>\n",
       "      <td>0.0</td>\n",
       "      <td>0.0</td>\n",
       "      <td>0.0</td>\n",
       "    </tr>\n",
       "    <tr>\n",
       "      <th>3</th>\n",
       "      <td>0.0</td>\n",
       "      <td>0.0</td>\n",
       "      <td>0.0</td>\n",
       "      <td>1.0</td>\n",
       "      <td>0.0</td>\n",
       "      <td>0.0</td>\n",
       "      <td>0.0</td>\n",
       "    </tr>\n",
       "    <tr>\n",
       "      <th>4</th>\n",
       "      <td>0.0</td>\n",
       "      <td>0.0</td>\n",
       "      <td>0.0</td>\n",
       "      <td>1.0</td>\n",
       "      <td>0.0</td>\n",
       "      <td>0.0</td>\n",
       "      <td>0.0</td>\n",
       "    </tr>\n",
       "    <tr>\n",
       "      <th>...</th>\n",
       "      <td>...</td>\n",
       "      <td>...</td>\n",
       "      <td>...</td>\n",
       "      <td>...</td>\n",
       "      <td>...</td>\n",
       "      <td>...</td>\n",
       "      <td>...</td>\n",
       "    </tr>\n",
       "    <tr>\n",
       "      <th>925</th>\n",
       "      <td>0.0</td>\n",
       "      <td>1.0</td>\n",
       "      <td>0.0</td>\n",
       "      <td>0.0</td>\n",
       "      <td>0.0</td>\n",
       "      <td>0.0</td>\n",
       "      <td>0.0</td>\n",
       "    </tr>\n",
       "    <tr>\n",
       "      <th>926</th>\n",
       "      <td>0.0</td>\n",
       "      <td>1.0</td>\n",
       "      <td>0.0</td>\n",
       "      <td>0.0</td>\n",
       "      <td>0.0</td>\n",
       "      <td>0.0</td>\n",
       "      <td>0.0</td>\n",
       "    </tr>\n",
       "    <tr>\n",
       "      <th>927</th>\n",
       "      <td>0.0</td>\n",
       "      <td>1.0</td>\n",
       "      <td>0.0</td>\n",
       "      <td>0.0</td>\n",
       "      <td>0.0</td>\n",
       "      <td>0.0</td>\n",
       "      <td>0.0</td>\n",
       "    </tr>\n",
       "    <tr>\n",
       "      <th>928</th>\n",
       "      <td>0.0</td>\n",
       "      <td>1.0</td>\n",
       "      <td>0.0</td>\n",
       "      <td>0.0</td>\n",
       "      <td>0.0</td>\n",
       "      <td>0.0</td>\n",
       "      <td>0.0</td>\n",
       "    </tr>\n",
       "    <tr>\n",
       "      <th>929</th>\n",
       "      <td>0.0</td>\n",
       "      <td>1.0</td>\n",
       "      <td>0.0</td>\n",
       "      <td>0.0</td>\n",
       "      <td>0.0</td>\n",
       "      <td>0.0</td>\n",
       "      <td>0.0</td>\n",
       "    </tr>\n",
       "  </tbody>\n",
       "</table>\n",
       "<p>930 rows × 7 columns</p>\n",
       "</div>"
      ],
      "text/plain": [
       "       0    1    2    3    4    5    6\n",
       "0    0.0  0.0  0.0  1.0  0.0  0.0  0.0\n",
       "1    0.0  0.0  0.0  1.0  0.0  0.0  0.0\n",
       "2    0.0  0.0  0.0  1.0  0.0  0.0  0.0\n",
       "3    0.0  0.0  0.0  1.0  0.0  0.0  0.0\n",
       "4    0.0  0.0  0.0  1.0  0.0  0.0  0.0\n",
       "..   ...  ...  ...  ...  ...  ...  ...\n",
       "925  0.0  1.0  0.0  0.0  0.0  0.0  0.0\n",
       "926  0.0  1.0  0.0  0.0  0.0  0.0  0.0\n",
       "927  0.0  1.0  0.0  0.0  0.0  0.0  0.0\n",
       "928  0.0  1.0  0.0  0.0  0.0  0.0  0.0\n",
       "929  0.0  1.0  0.0  0.0  0.0  0.0  0.0\n",
       "\n",
       "[930 rows x 7 columns]"
      ]
     },
     "execution_count": 63,
     "metadata": {},
     "output_type": "execute_result"
    }
   ],
   "source": [
    "pd.DataFrame(y)"
   ]
  },
  {
   "cell_type": "code",
   "execution_count": 22,
   "id": "a1dfaeca",
   "metadata": {},
   "outputs": [
    {
     "data": {
      "text/plain": [
       "930"
      ]
     },
     "execution_count": 22,
     "metadata": {},
     "output_type": "execute_result"
    }
   ],
   "source": [
    "len(train_images)"
   ]
  },
  {
   "cell_type": "code",
   "execution_count": 21,
   "id": "842cb291",
   "metadata": {},
   "outputs": [
    {
     "data": {
      "text/plain": [
       "(150, 150, 3)"
      ]
     },
     "execution_count": 21,
     "metadata": {},
     "output_type": "execute_result"
    }
   ],
   "source": [
    "train_images[0].shape"
   ]
  },
  {
   "cell_type": "code",
   "execution_count": 23,
   "id": "3159024f",
   "metadata": {},
   "outputs": [
    {
     "data": {
      "text/plain": [
       "(930, 7)"
      ]
     },
     "execution_count": 23,
     "metadata": {},
     "output_type": "execute_result"
    }
   ],
   "source": [
    "y.shape"
   ]
  },
  {
   "cell_type": "code",
   "execution_count": 24,
   "id": "ad5de6ac",
   "metadata": {},
   "outputs": [],
   "source": [
    "X = np.array(train_images)\n",
    "X = X / 255"
   ]
  },
  {
   "cell_type": "code",
   "execution_count": 25,
   "id": "adba4e14",
   "metadata": {},
   "outputs": [
    {
     "data": {
      "text/plain": [
       "(930, 7)"
      ]
     },
     "execution_count": 25,
     "metadata": {},
     "output_type": "execute_result"
    }
   ],
   "source": [
    "y.shape"
   ]
  },
  {
   "cell_type": "code",
   "execution_count": 26,
   "id": "9cd6f5b9",
   "metadata": {},
   "outputs": [
    {
     "data": {
      "text/plain": [
       "(930, 150, 150, 3)"
      ]
     },
     "execution_count": 26,
     "metadata": {},
     "output_type": "execute_result"
    }
   ],
   "source": [
    "X.shape"
   ]
  },
  {
   "cell_type": "code",
   "execution_count": 27,
   "id": "77ed6872",
   "metadata": {},
   "outputs": [],
   "source": [
    "X_train, X_test, y_train, y_test = train_test_split(X, y, test_size=0.3, random_state=1)"
   ]
  },
  {
   "cell_type": "code",
   "execution_count": 28,
   "id": "79cdc786",
   "metadata": {},
   "outputs": [
    {
     "data": {
      "text/plain": [
       "(651, 150, 150, 3)"
      ]
     },
     "execution_count": 28,
     "metadata": {},
     "output_type": "execute_result"
    }
   ],
   "source": [
    "X_train.shape"
   ]
  },
  {
   "cell_type": "code",
   "execution_count": 30,
   "id": "089187fb",
   "metadata": {},
   "outputs": [
    {
     "data": {
      "text/plain": [
       "(279, 150, 150, 3)"
      ]
     },
     "execution_count": 30,
     "metadata": {},
     "output_type": "execute_result"
    }
   ],
   "source": [
    "X_test.shape"
   ]
  },
  {
   "cell_type": "code",
   "execution_count": 31,
   "id": "7c2ab2db",
   "metadata": {},
   "outputs": [
    {
     "data": {
      "text/plain": [
       "(651, 7)"
      ]
     },
     "execution_count": 31,
     "metadata": {},
     "output_type": "execute_result"
    }
   ],
   "source": [
    "y_train.shape"
   ]
  },
  {
   "cell_type": "code",
   "execution_count": 32,
   "id": "fdb3d455",
   "metadata": {},
   "outputs": [],
   "source": [
    "model = Sequential()\n",
    "model.add(Conv2D(filters=32, kernel_size=(5,5), padding='Same', activation='relu', input_shape=X_train.shape[1:]))\n",
    "model.add(MaxPooling2D(pool_size=(2,2)))\n",
    "\n",
    "model.add(Conv2D(filters=64, kernel_size=(3,3), padding='Same', activation='relu'))\n",
    "model.add(MaxPooling2D(pool_size=(2,2), strides=(2,2)))\n",
    " \n",
    "model.add(Conv2D(filters=96, kernel_size=(3,3), padding='Same', activation='relu'))\n",
    "model.add(MaxPooling2D(pool_size=(2,2), strides=(2,2)))\n",
    "\n",
    "model.add(Conv2D(filters=96, kernel_size=(3,3), padding='Same', activation='relu'))\n",
    "model.add(MaxPooling2D(pool_size=(2,2), strides=(2,2)))\n",
    "\n",
    "model.add(Flatten())\n",
    "model.add(Dense(512))\n",
    "model.add(Activation('relu'))\n",
    "model.add(Dense(y.shape[1], activation = \"softmax\"))"
   ]
  },
  {
   "cell_type": "code",
   "execution_count": 33,
   "id": "6296b3d6",
   "metadata": {},
   "outputs": [],
   "source": [
    "batch_size = 128\n",
    "epochs = 50"
   ]
  },
  {
   "cell_type": "code",
   "execution_count": 34,
   "id": "957a3f18",
   "metadata": {},
   "outputs": [],
   "source": [
    "datagen = ImageDataGenerator(\n",
    "    featurewise_center=False,  # set input mean to 0 over the dataset\n",
    "    samplewise_center=False,  # set each sample mean to 0\n",
    "    featurewise_std_normalization=False,  # divide inputs by std of the dataset\n",
    "    samplewise_std_normalization=False,  # divide each input by its std\n",
    "    zca_whitening=False,  # apply ZCA whitening\n",
    "    rotation_range=30,  # randomly rotate images in the range (degrees, 0 to 180)\n",
    "    zoom_range = 0.1, # Randomly zoom image \n",
    "    width_shift_range=0.2,  # randomly shift images horizontally (fraction of total width)\n",
    "    height_shift_range=0.2,  # randomly shift images vertically (fraction of total height)\n",
    "    horizontal_flip=True,  # randomly flip images\n",
    "    vertical_flip=False\n",
    ") # randomly flip images\n",
    "\n",
    "datagen.fit(X_train)"
   ]
  },
  {
   "cell_type": "code",
   "execution_count": 35,
   "id": "d6daca4f",
   "metadata": {},
   "outputs": [],
   "source": [
    "model.compile(\n",
    "    optimizer=Adam(learning_rate=0.001), \n",
    "    loss='categorical_crossentropy', \n",
    "    metrics=['accuracy']\n",
    ")"
   ]
  },
  {
   "cell_type": "code",
   "execution_count": 36,
   "id": "1b75998c",
   "metadata": {
    "scrolled": false
   },
   "outputs": [
    {
     "name": "stdout",
     "output_type": "stream",
     "text": [
      "Epoch 1/50\n",
      "5/5 [==============================] - 7s 1s/step - loss: 1.9839 - accuracy: 0.1893 - val_loss: 1.8806 - val_accuracy: 0.2509\n",
      "Epoch 2/50\n",
      "5/5 [==============================] - 7s 1s/step - loss: 1.8626 - accuracy: 0.2275 - val_loss: 1.6875 - val_accuracy: 0.2724\n",
      "Epoch 3/50\n",
      "5/5 [==============================] - 6s 1s/step - loss: 1.6989 - accuracy: 0.3346 - val_loss: 1.6239 - val_accuracy: 0.3226\n",
      "Epoch 4/50\n",
      "5/5 [==============================] - 6s 1s/step - loss: 1.6147 - accuracy: 0.3920 - val_loss: 1.3963 - val_accuracy: 0.4265\n",
      "Epoch 5/50\n",
      "5/5 [==============================] - 6s 1s/step - loss: 1.4287 - accuracy: 0.4646 - val_loss: 1.5020 - val_accuracy: 0.4301\n",
      "Epoch 6/50\n",
      "5/5 [==============================] - 7s 1s/step - loss: 1.3887 - accuracy: 0.4828 - val_loss: 1.1399 - val_accuracy: 0.5771\n",
      "Epoch 7/50\n",
      "5/5 [==============================] - 6s 1s/step - loss: 1.1580 - accuracy: 0.5908 - val_loss: 1.1169 - val_accuracy: 0.6452\n",
      "Epoch 8/50\n",
      "5/5 [==============================] - 6s 2s/step - loss: 1.0641 - accuracy: 0.6157 - val_loss: 0.9619 - val_accuracy: 0.6810\n",
      "Epoch 9/50\n",
      "5/5 [==============================] - 6s 1s/step - loss: 0.9641 - accuracy: 0.6711 - val_loss: 1.0653 - val_accuracy: 0.5950\n",
      "Epoch 10/50\n",
      "5/5 [==============================] - 6s 1s/step - loss: 0.9662 - accuracy: 0.6501 - val_loss: 1.0927 - val_accuracy: 0.6129\n",
      "Epoch 11/50\n",
      "5/5 [==============================] - 6s 1s/step - loss: 1.1886 - accuracy: 0.5660 - val_loss: 1.1153 - val_accuracy: 0.5448\n",
      "Epoch 12/50\n",
      "5/5 [==============================] - 6s 1s/step - loss: 1.0364 - accuracy: 0.5927 - val_loss: 1.0503 - val_accuracy: 0.6093\n",
      "Epoch 13/50\n",
      "5/5 [==============================] - 6s 1s/step - loss: 1.1345 - accuracy: 0.5774 - val_loss: 1.0304 - val_accuracy: 0.6416\n",
      "Epoch 14/50\n",
      "5/5 [==============================] - 6s 1s/step - loss: 0.9805 - accuracy: 0.6482 - val_loss: 0.7890 - val_accuracy: 0.7061\n",
      "Epoch 15/50\n",
      "5/5 [==============================] - 6s 1s/step - loss: 0.8272 - accuracy: 0.7189 - val_loss: 0.7345 - val_accuracy: 0.7419\n",
      "Epoch 16/50\n",
      "5/5 [==============================] - 6s 1s/step - loss: 0.8470 - accuracy: 0.7055 - val_loss: 0.7273 - val_accuracy: 0.7384\n",
      "Epoch 17/50\n",
      "5/5 [==============================] - 6s 1s/step - loss: 0.7934 - accuracy: 0.7094 - val_loss: 0.7085 - val_accuracy: 0.7240\n",
      "Epoch 18/50\n",
      "5/5 [==============================] - 6s 1s/step - loss: 0.7563 - accuracy: 0.7400 - val_loss: 0.7436 - val_accuracy: 0.7204\n",
      "Epoch 19/50\n",
      "5/5 [==============================] - 6s 1s/step - loss: 0.7945 - accuracy: 0.7151 - val_loss: 0.9239 - val_accuracy: 0.7061\n",
      "Epoch 20/50\n",
      "5/5 [==============================] - 7s 1s/step - loss: 0.7235 - accuracy: 0.7453 - val_loss: 0.7398 - val_accuracy: 0.7384\n",
      "Epoch 21/50\n",
      "5/5 [==============================] - 7s 1s/step - loss: 0.7028 - accuracy: 0.7500 - val_loss: 0.6899 - val_accuracy: 0.7455\n",
      "Epoch 22/50\n",
      "5/5 [==============================] - 6s 1s/step - loss: 0.6735 - accuracy: 0.7553 - val_loss: 0.6659 - val_accuracy: 0.7563\n",
      "Epoch 23/50\n",
      "5/5 [==============================] - 6s 1s/step - loss: 0.6212 - accuracy: 0.7839 - val_loss: 0.8241 - val_accuracy: 0.7025\n",
      "Epoch 24/50\n",
      "5/5 [==============================] - 6s 1s/step - loss: 0.7107 - accuracy: 0.7419 - val_loss: 0.6794 - val_accuracy: 0.7527\n",
      "Epoch 25/50\n",
      "5/5 [==============================] - 6s 1s/step - loss: 0.6668 - accuracy: 0.7629 - val_loss: 0.7794 - val_accuracy: 0.7312\n",
      "Epoch 26/50\n",
      "5/5 [==============================] - 6s 1s/step - loss: 0.6928 - accuracy: 0.7457 - val_loss: 0.6792 - val_accuracy: 0.7814\n",
      "Epoch 27/50\n",
      "5/5 [==============================] - 7s 1s/step - loss: 0.7324 - accuracy: 0.7234 - val_loss: 0.8323 - val_accuracy: 0.7061\n",
      "Epoch 28/50\n",
      "5/5 [==============================] - 7s 1s/step - loss: 0.6360 - accuracy: 0.7625 - val_loss: 0.6258 - val_accuracy: 0.7778\n",
      "Epoch 29/50\n",
      "5/5 [==============================] - 7s 1s/step - loss: 0.6032 - accuracy: 0.7844 - val_loss: 0.6549 - val_accuracy: 0.7563\n",
      "Epoch 30/50\n",
      "5/5 [==============================] - 6s 1s/step - loss: 0.6167 - accuracy: 0.7820 - val_loss: 0.9225 - val_accuracy: 0.6882\n",
      "Epoch 31/50\n",
      "5/5 [==============================] - 6s 1s/step - loss: 0.6884 - accuracy: 0.7514 - val_loss: 1.1221 - val_accuracy: 0.6487\n",
      "Epoch 32/50\n",
      "5/5 [==============================] - 7s 1s/step - loss: 0.7463 - accuracy: 0.7391 - val_loss: 0.8031 - val_accuracy: 0.7312\n",
      "Epoch 33/50\n",
      "5/5 [==============================] - 7s 1s/step - loss: 0.7141 - accuracy: 0.7422 - val_loss: 0.6786 - val_accuracy: 0.7599\n",
      "Epoch 34/50\n",
      "5/5 [==============================] - 7s 1s/step - loss: 0.6552 - accuracy: 0.7563 - val_loss: 0.6783 - val_accuracy: 0.7599\n",
      "Epoch 35/50\n",
      "5/5 [==============================] - 6s 1s/step - loss: 0.5955 - accuracy: 0.7973 - val_loss: 0.9261 - val_accuracy: 0.6810\n",
      "Epoch 36/50\n",
      "5/5 [==============================] - 6s 1s/step - loss: 0.6026 - accuracy: 0.7725 - val_loss: 0.6922 - val_accuracy: 0.7849\n",
      "Epoch 37/50\n",
      "5/5 [==============================] - 7s 1s/step - loss: 0.6224 - accuracy: 0.7766 - val_loss: 0.6536 - val_accuracy: 0.7885\n",
      "Epoch 38/50\n",
      "5/5 [==============================] - 6s 1s/step - loss: 0.5381 - accuracy: 0.8069 - val_loss: 1.0090 - val_accuracy: 0.6953\n",
      "Epoch 39/50\n",
      "5/5 [==============================] - 6s 1s/step - loss: 0.6072 - accuracy: 0.7859 - val_loss: 0.6166 - val_accuracy: 0.7957\n",
      "Epoch 40/50\n",
      "5/5 [==============================] - 6s 1s/step - loss: 0.6008 - accuracy: 0.7725 - val_loss: 0.7292 - val_accuracy: 0.7634\n",
      "Epoch 41/50\n",
      "5/5 [==============================] - 6s 1s/step - loss: 0.5316 - accuracy: 0.8031 - val_loss: 0.7438 - val_accuracy: 0.7455\n",
      "Epoch 42/50\n",
      "5/5 [==============================] - 6s 1s/step - loss: 0.6018 - accuracy: 0.7954 - val_loss: 0.7215 - val_accuracy: 0.7563\n",
      "Epoch 43/50\n",
      "5/5 [==============================] - 6s 1s/step - loss: 0.6979 - accuracy: 0.7572 - val_loss: 0.8426 - val_accuracy: 0.7419\n",
      "Epoch 44/50\n",
      "5/5 [==============================] - 6s 1s/step - loss: 0.6495 - accuracy: 0.7935 - val_loss: 0.8396 - val_accuracy: 0.7312\n",
      "Epoch 45/50\n",
      "5/5 [==============================] - 6s 1s/step - loss: 0.5820 - accuracy: 0.7935 - val_loss: 0.6232 - val_accuracy: 0.7778\n",
      "Epoch 46/50\n",
      "5/5 [==============================] - 6s 1s/step - loss: 0.5931 - accuracy: 0.7859 - val_loss: 0.8429 - val_accuracy: 0.7097\n",
      "Epoch 47/50\n",
      "5/5 [==============================] - 6s 1s/step - loss: 0.6088 - accuracy: 0.7706 - val_loss: 0.7330 - val_accuracy: 0.7491\n",
      "Epoch 48/50\n",
      "5/5 [==============================] - 7s 1s/step - loss: 0.5749 - accuracy: 0.8000 - val_loss: 0.8010 - val_accuracy: 0.7670\n",
      "Epoch 49/50\n",
      "5/5 [==============================] - 7s 1s/step - loss: 0.5436 - accuracy: 0.8000 - val_loss: 0.7550 - val_accuracy: 0.7527\n",
      "Epoch 50/50\n",
      "5/5 [==============================] - 7s 1s/step - loss: 0.5148 - accuracy: 0.8141 - val_loss: 0.6735 - val_accuracy: 0.7957\n"
     ]
    }
   ],
   "source": [
    "history = model.fit(\n",
    "    datagen.flow(X_train, y_train, batch_size=batch_size),\n",
    "    epochs = epochs, \n",
    "    validation_data = (X_test, y_test),\n",
    "    verbose = 1, \n",
    "    steps_per_epoch=X_train.shape[0] // batch_size\n",
    ")"
   ]
  },
  {
   "cell_type": "code",
   "execution_count": 37,
   "id": "82e3e09a",
   "metadata": {},
   "outputs": [
    {
     "name": "stdout",
     "output_type": "stream",
     "text": [
      "9/9 [==============================] - 1s 60ms/step\n"
     ]
    }
   ],
   "source": [
    "predictions = model.predict(X_test)"
   ]
  },
  {
   "cell_type": "code",
   "execution_count": 38,
   "id": "aecc4bed",
   "metadata": {},
   "outputs": [
    {
     "data": {
      "text/plain": [
       "279"
      ]
     },
     "execution_count": 38,
     "metadata": {},
     "output_type": "execute_result"
    }
   ],
   "source": [
    "X_test.shape[0]"
   ]
  },
  {
   "cell_type": "code",
   "execution_count": 41,
   "id": "92fc7eac",
   "metadata": {},
   "outputs": [],
   "source": [
    "y_pred = encoder.inverse_transform(np.argmax(predictions, axis=1))"
   ]
  },
  {
   "cell_type": "code",
   "execution_count": 42,
   "id": "f8e594b6",
   "metadata": {},
   "outputs": [],
   "source": [
    "y_true = encoder.inverse_transform(np.argmax(y_test, axis=1))"
   ]
  },
  {
   "cell_type": "code",
   "execution_count": 53,
   "id": "fae460e1",
   "metadata": {},
   "outputs": [
    {
     "data": {
      "text/plain": [
       "0.7956989247311826"
      ]
     },
     "execution_count": 53,
     "metadata": {},
     "output_type": "execute_result"
    }
   ],
   "source": [
    "from sklearn.metrics import f1_score, confusion_matrix, ConfusionMatrixDisplay\n",
    "\n",
    "f1_score(y_pred, y_true, average=\"micro\")"
   ]
  },
  {
   "cell_type": "code",
   "execution_count": 56,
   "id": "b807f288",
   "metadata": {},
   "outputs": [
    {
     "data": {
      "text/plain": [
       "<sklearn.metrics._plot.confusion_matrix.ConfusionMatrixDisplay at 0x7f82b81d5940>"
      ]
     },
     "execution_count": 56,
     "metadata": {},
     "output_type": "execute_result"
    },
    {
     "data": {
      "image/png": "[encoded data removed]",
      "text/plain": [
       "<Figure size 640x480 with 2 Axes>"
      ]
     },
     "metadata": {},
     "output_type": "display_data"
    }
   ],
   "source": [
    "ConfusionMatrixDisplay.from_predictions(y_pred, y_true, xticks_rotation=\"vertical\")"
   ]
  },
  {
   "cell_type": "code",
   "execution_count": 26,
   "id": "593a135b",
   "metadata": {},
   "outputs": [
    {
     "name": "stdout",
     "output_type": "stream",
     "text": [
      "              precision    recall  f1-score   support\n",
      "\n",
      "     biotite       0.54      0.72      0.62        18\n",
      "     bornite       0.75      0.86      0.80        56\n",
      " chrysocolla       0.76      0.76      0.76        51\n",
      "   malachite       0.90      0.78      0.84        69\n",
      "   muscovite       0.57      0.42      0.48        19\n",
      "      pyrite       0.80      0.71      0.75        28\n",
      "      quartz       0.83      0.89      0.86        38\n",
      "\n",
      "    accuracy                           0.77       279\n",
      "   macro avg       0.74      0.74      0.73       279\n",
      "weighted avg       0.78      0.77      0.77       279\n",
      "\n"
     ]
    }
   ],
   "source": [
    "print(classification_report(y_true, y_pred))"
   ]
  },
  {
   "cell_type": "code",
   "execution_count": 33,
   "id": "b8e9d2a4",
   "metadata": {},
   "outputs": [
    {
     "data": {
      "image/png": "[encoded data removed]",
      "text/plain": [
       "<Figure size 640x480 with 2 Axes>"
      ]
     },
     "metadata": {},
     "output_type": "display_data"
    }
   ],
   "source": [
    "ConfusionMatrixDisplay.from_predictions(y_true, y_pred, xticks_rotation=\"vertical\");"
   ]
  },
  {
   "cell_type": "code",
   "execution_count": null,
   "id": "c7367148",
   "metadata": {},
   "outputs": [],
   "source": []
  }
 ],
 "metadata": {
  "kernelspec": {
   "display_name": "Python 3 (ipykernel)",
   "language": "python",
   "name": "python3"
  },
  "language_info": {
   "codemirror_mode": {
    "name": "ipython",
    "version": 3
   },
   "file_extension": ".py",
   "mimetype": "text/x-python",
   "name": "python",
   "nbconvert_exporter": "python",
   "pygments_lexer": "ipython3",
   "version": "3.9.7"
  }
 },
 "nbformat": 4,
 "nbformat_minor": 5
}
