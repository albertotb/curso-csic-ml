{
 "cells": [
  {
   "cell_type": "markdown",
   "id": "dea08bb3",
   "metadata": {},
   "source": [
    "# Predicting stratigraphy from geochemistry, and predicting Cu and Zn from other geochemical analytes\n",
    "\n",
    "Hypothesis:\n",
    "1. Can geochemistry be used to accurately predict the dominant catchment lithology of a stream sediment sample in the dataset?\n",
    "2. Can geochemistry of many analytes be used to accurately predict the concentrations of one analyte, such as copper?\n",
    "\n",
    "Referencia: https://towardsdatascience.com/exploring-use-cases-of-machine-learning-in-the-geosciences-b72ea7aafe2"
   ]
  },
  {
   "cell_type": "code",
   "execution_count": 4,
   "id": "26992f49",
   "metadata": {},
   "outputs": [],
   "source": [
    "#%pip install openpyxl"
   ]
  },
  {
   "cell_type": "code",
   "execution_count": 5,
   "id": "9ddb4cab",
   "metadata": {},
   "outputs": [],
   "source": [
    "import pandas as pd\n",
    "\n",
    "df = pd.read_excel(\"../data/rgs2020_data.xlsx\")"
   ]
  },
  {
   "cell_type": "code",
   "execution_count": 84,
   "id": "00e51111",
   "metadata": {},
   "outputs": [],
   "source": [
    "# Analitos analizados por ICP-MS\n",
    "cols = ['MASTERID', 'LAT', 'LONG', 'STRAT'] + [col for col in df.columns if 'ICP' in col]\n",
    "quest = df.loc[df[\"NAME\"] == \"QUEST\", cols]"
   ]
  },
  {
   "cell_type": "code",
   "execution_count": 87,
   "id": "a1b058a6",
   "metadata": {},
   "outputs": [],
   "source": [
    "quest = quest.dropna(axis=1, how=\"all\")"
   ]
  },
  {
   "cell_type": "code",
   "execution_count": 108,
   "id": "7f45d4cf",
   "metadata": {},
   "outputs": [
    {
     "data": {
      "text/plain": [
       "(1959, 39)"
      ]
     },
     "execution_count": 108,
     "metadata": {},
     "output_type": "execute_result"
    }
   ],
   "source": [
    "quest.shape"
   ]
  },
  {
   "cell_type": "code",
   "execution_count": 91,
   "id": "a26a968d",
   "metadata": {},
   "outputs": [],
   "source": [
    "path = \"/home/alberto/geoscience_ml/\""
   ]
  },
  {
   "cell_type": "code",
   "execution_count": 92,
   "id": "5b9ed888",
   "metadata": {},
   "outputs": [
    {
     "data": {
      "text/plain": [
       "['litho-Table 1.csv',\n",
       " 'analytes.csv',\n",
       " 'Critical_Minerals_ID.ipynb',\n",
       " 'quest_zn_ml_blended.csv',\n",
       " 'README.md',\n",
       " 'quest_cu_ml_blended.csv',\n",
       " '.git',\n",
       " 'ml_analytes.ipynb',\n",
       " 'quest_geo_unit_ml.csv',\n",
       " 'metrics.ipynb',\n",
       " 'ml_geo_unit_v3_Quest.ipynb']"
      ]
     },
     "execution_count": 92,
     "metadata": {},
     "output_type": "execute_result"
    }
   ],
   "source": [
    "import os\n",
    "os.listdir(path)"
   ]
  },
  {
   "cell_type": "code",
   "execution_count": 105,
   "id": "390a1a76",
   "metadata": {},
   "outputs": [],
   "source": [
    "a = pd.read_csv(path + 'analytes.csv')"
   ]
  },
  {
   "cell_type": "code",
   "execution_count": 107,
   "id": "5f469eca",
   "metadata": {},
   "outputs": [
    {
     "data": {
      "text/plain": [
       "(1959, 40)"
      ]
     },
     "execution_count": 107,
     "metadata": {},
     "output_type": "execute_result"
    }
   ],
   "source": [
    "a.shape"
   ]
  },
  {
   "cell_type": "code",
   "execution_count": 109,
   "id": "e418e978",
   "metadata": {},
   "outputs": [
    {
     "data": {
      "text/plain": [
       "basaltic volcanic rocks                                      569\n",
       "mudstone, siltstone, shale fine clastic sedimentary rocks    393\n",
       "volcaniclastic rocks                                         245\n",
       "paragneiss metamorphic rocks                                 240\n",
       "calc-alkaline volcanic rocks                                 132\n",
       "undivided sedimentary rocks                                   71\n",
       "limestone, marble, calcareous sedimentary rocks               39\n",
       "basaltic volcaniclastic rocks                                 39\n",
       "lower amphibolite/kyanite grade metamorphic rocks             35\n",
       "pegmatitic intrusive rocks                                    25\n",
       "coarse volcaniclastic and pyroclastic volcanic rocks          23\n",
       "calcsilicate metamorphic rocks                                18\n",
       "granite, alkali feldspar granite intrusive rocks              18\n",
       "chert, siliceous argillite, siliciclastic rocks               17\n",
       "mudstone/laminite fine clastic sedimentary rocks              15\n",
       "granodioritic intrusive rocks                                 15\n",
       "quartz monzonitic intrusive rocks                             13\n",
       "limestone, slate, siltstone, argillite                        12\n",
       "limestone bioherm/reef                                         7\n",
       "dacitic volcanic rocks                                         6\n",
       "metasediments                                                  5\n",
       "serpentinite ultramafic rocks                                  5\n",
       "rhyolite, felsic volcanic rocks                                4\n",
       "quartzite, quartz arenite sedimentary rocks                    3\n",
       "dolomitic carbonate rocks                                      2\n",
       "ultramafic rocks                                               2\n",
       "transitional mixed volcanic and sedimentary rocks              2\n",
       "foliated granite, alkali feldspar granite intrusive rocks      2\n",
       "quartz monzonitic to monzogranitic intrusive rocks             1\n",
       "syenitic to monzonitic intrusive rocks                         1\n",
       "Name: rock_type, dtype: int64"
      ]
     },
     "execution_count": 109,
     "metadata": {},
     "output_type": "execute_result"
    }
   ],
   "source": [
    "a[\"rock_type\"].value_counts()"
   ]
  },
  {
   "cell_type": "code",
   "execution_count": 111,
   "id": "ccc95829",
   "metadata": {},
   "outputs": [
    {
     "data": {
      "text/plain": [
       "TrJTk     1096\n",
       "KTpg       240\n",
       "MTrCc      177\n",
       "CPSm        93\n",
       "uTrJNc      63\n",
       "LTQCh       60\n",
       "PJog        28\n",
       "Kpe         25\n",
       "lJCl        23\n",
       "PJml        20\n",
       "KTmc        18\n",
       "OMEa        15\n",
       "Kgr         13\n",
       "MJqm        13\n",
       "SDs         10\n",
       "EKgd         9\n",
       "?ETOo        9\n",
       "ETOo         8\n",
       "CmOKe        8\n",
       "ETgd         6\n",
       "uPrPzS       6\n",
       "ETgr         4\n",
       "uKTS         4\n",
       "CmOs         3\n",
       "DPBc         2\n",
       "CTrus        2\n",
       "EJqm         1\n",
       "EJsy         1\n",
       "Pzum         1\n",
       "TrJum        1\n",
       "Name: STRAT, dtype: int64"
      ]
     },
     "execution_count": 111,
     "metadata": {},
     "output_type": "execute_result"
    }
   ],
   "source": [
    "a[\"STRAT\"].value_counts()"
   ]
  },
  {
   "cell_type": "code",
   "execution_count": null,
   "id": "4b9c9f2b",
   "metadata": {},
   "outputs": [],
   "source": []
  }
 ],
 "metadata": {
  "kernelspec": {
   "display_name": "Python 3 (ipykernel)",
   "language": "python",
   "name": "python3"
  },
  "language_info": {
   "codemirror_mode": {
    "name": "ipython",
    "version": 3
   },
   "file_extension": ".py",
   "mimetype": "text/x-python",
   "name": "python",
   "nbconvert_exporter": "python",
   "pygments_lexer": "ipython3",
   "version": "3.9.7"
  }
 },
 "nbformat": 4,
 "nbformat_minor": 5
}
